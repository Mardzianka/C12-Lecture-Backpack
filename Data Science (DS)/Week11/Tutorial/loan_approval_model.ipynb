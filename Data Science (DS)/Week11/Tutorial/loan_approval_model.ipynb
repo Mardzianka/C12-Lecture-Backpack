{
 "cells": [
  {
   "cell_type": "code",
   "execution_count": null,
   "id": "e1601b5e-d9e3-492e-acff-4d013e648dbf",
   "metadata": {},
   "outputs": [],
   "source": [
    "UCI Credit Approval Dataset (Synthetic Version)\n",
    "\n",
    "This dataset is a synthetic version of the UCI Credit Approval Dataset, originally sourced from the UCI Machine Learning Repository.\n",
    "It contains 500 instances representing individuals applying for a loan or credit. Each record includes 15 attributes \n",
    "(both categorical and numerical) and a binary target variable indicating whether the application was approved (+) or denied (-).\n",
    "\n",
    "Purpose:\n",
    "The dataset is used to build and evaluate fair and transparent machine learning models for credit approval. \n",
    "\n",
    "Key objectives include:\n",
    " - Fairness Analysis: Ensuring the model does not discriminate based on demographic attributes.\n",
    " - Bias Mitigation: Applying techniques like reweighting and adversarial debiasing.\n",
    " - Explainability: Using SHAP or LIME to interpret predictions.\n",
    "\n",
    "    Attribute Description:\n",
    "\n",
    "A1: Categorical - Gender (a or b)\n",
    "A2: Numerical - Age in years\n",
    "A3: Numerical - Debt ratio\n",
    "A4: Categorical - Employment status\n",
    "A5: Categorical - Marital status\n",
    "A6: Categorical - Credit history\n",
    "A7: Categorical - Housing status\n",
    "A8: Numerical - Loan amount\n",
    "A9: Categorical - Has bank account (t or f)\n",
    "A10: Categorical - Has credit card (t or f)\n",
    "A11: Numerical - Number of dependents\n",
    "A12: Categorical - Has previous loan defaults (t or f)\n",
    "A13: Categorical - Employment type (g, p, s)\n",
    "A14: Numerical - Annual income\n",
    "A15: Numerical - Credit score\n",
    "Approval: Target Variable (+ for approved, - for denied)"
   ]
  },
  {
   "cell_type": "code",
   "execution_count": 4,
   "id": "b1ec30cb-1d18-4f19-8ea3-f06c369d4f7f",
   "metadata": {},
   "outputs": [
    {
     "name": "stdout",
     "output_type": "stream",
     "text": [
      "A1          0\n",
      "A2          0\n",
      "A3          0\n",
      "A4          0\n",
      "A5          0\n",
      "A6          0\n",
      "A7          0\n",
      "A8          0\n",
      "A9          0\n",
      "A10         0\n",
      "A11         0\n",
      "A12         0\n",
      "A13         0\n",
      "A14         0\n",
      "A15         0\n",
      "Approval    1\n",
      "dtype: int64\n"
     ]
    },
    {
     "data": {
      "image/png": "[encoded data removed]",
      "text/plain": [
       "<Figure size 640x480 with 1 Axes>"
      ]
     },
     "metadata": {},
     "output_type": "display_data"
    }
   ],
   "source": [
    "import pandas as pd\n",
    "import numpy as np\n",
    "import seaborn as sns\n",
    "import matplotlib.pyplot as plt\n",
    "\n",
    "# Load dataset\n",
    "path = \"synthetic_credit_approval.csv\"\n",
    "columns = ['A1', 'A2', 'A3', 'A4', 'A5', 'A6', 'A7', 'A8', 'A9', 'A10', 'A11', 'A12', 'A13', 'A14', 'A15', 'Approval']\n",
    "df = pd.read_csv(path, names=columns, na_values='?')\n",
    "\n",
    "# Convert target column to binary (1 = approved, 0 = rejected)\n",
    "df['Approval'] = df['Approval'].map({'+': 1, '-': 0})\n",
    "\n",
    "# Display missing values\n",
    "print(df.isnull().sum())\n",
    "\n",
    "# Visualize target distribution\n",
    "sns.countplot(x=df['Approval'])\n",
    "plt.title(\"Loan Approval Distribution\")\n",
    "plt.show()\n"
   ]
  },
  {
   "cell_type": "code",
   "execution_count": 5,
   "id": "2eb178b0-c980-4e18-a261-669df31115d2",
   "metadata": {},
   "outputs": [],
   "source": [
    "from sklearn.impute import SimpleImputer\n",
    "from sklearn.preprocessing import LabelEncoder, StandardScaler\n",
    "\n",
    "# Fill missing values\n",
    "imputer = SimpleImputer(strategy=\"most_frequent\")\n",
    "df = pd.DataFrame(imputer.fit_transform(df), columns=df.columns)\n",
    "\n",
    "# Encode categorical features\n",
    "for col in df.select_dtypes(include=['object']).columns:\n",
    "    df[col] = LabelEncoder().fit_transform(df[col])\n",
    "\n",
    "# Scale numeric features\n",
    "scaler = StandardScaler()\n",
    "df[df.columns[:-1]] = scaler.fit_transform(df[df.columns[:-1]])\n",
    "\n",
    "# Define features and target\n",
    "X = df.drop(\"Approval\", axis=1)\n",
    "y = df[\"Approval\"]"
   ]
  },
  {
   "cell_type": "code",
   "execution_count": 6,
   "id": "037d719d-209e-43de-bcea-d813ee5c36b7",
   "metadata": {},
   "outputs": [
    {
     "name": "stdout",
     "output_type": "stream",
     "text": [
      "Selection Rate Per Group:\n",
      " A1\n",
      "-2.994629    0.0\n",
      "-1.010093    0.0\n",
      " 0.974443    0.0\n",
      "Name: selection_rate, dtype: float64\n"
     ]
    }
   ],
   "source": [
    "from fairlearn.metrics import MetricFrame, selection_rate\n",
    "from fairlearn.reductions import DemographicParity\n",
    "\n",
    "# Define protected attribute\n",
    "protected_attr = df[\"A1\"]  # Gender\n",
    "\n",
    "# Compute selection rate per group\n",
    "metric_frame = MetricFrame(metrics=selection_rate, y_true=y, y_pred=np.zeros_like(y), sensitive_features=protected_attr)\n",
    "print(\"Selection Rate Per Group:\\n\", metric_frame.by_group)"
   ]
  },
  {
   "cell_type": "code",
   "execution_count": 7,
   "id": "37b06475-9e0d-41cc-8783-bc8023e33cd8",
   "metadata": {},
   "outputs": [
    {
     "name": "stdout",
     "output_type": "stream",
     "text": [
      "Logistic Regression Accuracy: 0.42\n",
      "Random Forest Accuracy: 0.46\n"
     ]
    }
   ],
   "source": [
    "from sklearn.model_selection import train_test_split\n",
    "from sklearn.linear_model import LogisticRegression\n",
    "from sklearn.ensemble import RandomForestClassifier\n",
    "from sklearn.metrics import accuracy_score\n",
    "\n",
    "# Split dataset\n",
    "X_train, X_test, y_train, y_test = train_test_split(X, y, test_size=0.2, random_state=42)\n",
    "\n",
    "# Train models\n",
    "models = {\n",
    "    \"Logistic Regression\": LogisticRegression(),\n",
    "    \"Random Forest\": RandomForestClassifier(n_estimators=100)\n",
    "}\n",
    "\n",
    "for name, model in models.items():\n",
    "    model.fit(X_train, y_train)\n",
    "    y_pred = model.predict(X_test)\n",
    "    print(f\"{name} Accuracy: {accuracy_score(y_test, y_pred):.2f}\")"
   ]
  },
  {
   "cell_type": "code",
   "execution_count": 8,
   "id": "b87bc81a-1014-48fd-b947-1ea20775add3",
   "metadata": {},
   "outputs": [
    {
     "name": "stdout",
     "output_type": "stream",
     "text": [
      "Fair Model Accuracy: 0.42574257425742573\n"
     ]
    }
   ],
   "source": [
    "from fairlearn.reductions import ExponentiatedGradient\n",
    "\n",
    "fair_model = ExponentiatedGradient(LogisticRegression(), constraints=DemographicParity())\n",
    "fair_model.fit(X_train, y_train, sensitive_features=X_train['A1'])\n",
    "\n",
    "y_pred_fair = fair_model.predict(X_test)\n",
    "print(\"Fair Model Accuracy:\", accuracy_score(y_test, y_pred_fair))"
   ]
  }
 ],
 "metadata": {
  "kernelspec": {
   "display_name": "Python 3 (ipykernel)",
   "language": "python",
   "name": "python3"
  },
  "language_info": {
   "codemirror_mode": {
    "name": "ipython",
    "version": 3
   },
   "file_extension": ".py",
   "mimetype": "text/x-python",
   "name": "python",
   "nbconvert_exporter": "python",
   "pygments_lexer": "ipython3",
   "version": "3.12.7"
  }
 },
 "nbformat": 4,
 "nbformat_minor": 5
}
