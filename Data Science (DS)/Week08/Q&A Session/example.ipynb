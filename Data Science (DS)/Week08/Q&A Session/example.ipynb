{
 "cells": [
  {
   "cell_type": "code",
   "execution_count": null,
   "id": "d0ce66a1-8155-4b93-82bb-1cbdc19c9e1f",
   "metadata": {},
   "outputs": [],
   "source": [
    "# Original Data\n",
    "sns.histplot(countries[‘Test’], ax=ax[0], kde=True)\n",
    "ax[0].set_title(\"Original Data\")\n",
    "\n",
    "# Normalized Data\n",
    "sns.histplot(countries[‘Test_normalized'], ax=ax[1], kde=True)\n",
    "ax[1].set_title(\"Normalized Data\")"
   ]
  }
 ],
 "metadata": {
  "kernelspec": {
   "display_name": "Python 3 (ipykernel)",
   "language": "python",
   "name": "python3"
  },
  "language_info": {
   "codemirror_mode": {
    "name": "ipython",
    "version": 3
   },
   "file_extension": ".py",
   "mimetype": "text/x-python",
   "name": "python",
   "nbconvert_exporter": "python",
   "pygments_lexer": "ipython3",
   "version": "3.12.7"
  }
 },
 "nbformat": 4,
 "nbformat_minor": 5
}
